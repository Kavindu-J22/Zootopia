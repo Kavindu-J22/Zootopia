{
 "cells": [
  {
   "cell_type": "code",
   "execution_count": 1,
   "metadata": {},
   "outputs": [],
   "source": [
    "import pandas as pd\n",
    "from sklearn.model_selection import train_test_split"
   ]
  },
  {
   "cell_type": "code",
   "execution_count": 3,
   "metadata": {},
   "outputs": [],
   "source": [
    "# Assuming your dataset is in a CSV file named 'dataset.csv'\n",
    "df = pd.read_csv('G:/GitHub/Zootopia/animaldisease/animal_disease_dataset/data.csv')"
   ]
  },
  {
   "cell_type": "code",
   "execution_count": 4,
   "metadata": {},
   "outputs": [
    {
     "data": {
      "text/html": [
       "<div>\n",
       "<style scoped>\n",
       "    .dataframe tbody tr th:only-of-type {\n",
       "        vertical-align: middle;\n",
       "    }\n",
       "\n",
       "    .dataframe tbody tr th {\n",
       "        vertical-align: top;\n",
       "    }\n",
       "\n",
       "    .dataframe thead th {\n",
       "        text-align: right;\n",
       "    }\n",
       "</style>\n",
       "<table border=\"1\" class=\"dataframe\">\n",
       "  <thead>\n",
       "    <tr style=\"text-align: right;\">\n",
       "      <th></th>\n",
       "      <th>AnimalName</th>\n",
       "      <th>symptoms1</th>\n",
       "      <th>symptoms2</th>\n",
       "      <th>symptoms3</th>\n",
       "      <th>symptoms4</th>\n",
       "      <th>symptoms5</th>\n",
       "      <th>Dangerous</th>\n",
       "    </tr>\n",
       "  </thead>\n",
       "  <tbody>\n",
       "    <tr>\n",
       "      <th>0</th>\n",
       "      <td>Dog</td>\n",
       "      <td>Fever</td>\n",
       "      <td>Diarrhea</td>\n",
       "      <td>Vomiting</td>\n",
       "      <td>Weight loss</td>\n",
       "      <td>Dehydration</td>\n",
       "      <td>Yes</td>\n",
       "    </tr>\n",
       "    <tr>\n",
       "      <th>1</th>\n",
       "      <td>Dog</td>\n",
       "      <td>Fever</td>\n",
       "      <td>Diarrhea</td>\n",
       "      <td>Coughing</td>\n",
       "      <td>Tiredness</td>\n",
       "      <td>Pains</td>\n",
       "      <td>Yes</td>\n",
       "    </tr>\n",
       "    <tr>\n",
       "      <th>2</th>\n",
       "      <td>Dog</td>\n",
       "      <td>Fever</td>\n",
       "      <td>Diarrhea</td>\n",
       "      <td>Coughing</td>\n",
       "      <td>Vomiting</td>\n",
       "      <td>Anorexia</td>\n",
       "      <td>Yes</td>\n",
       "    </tr>\n",
       "    <tr>\n",
       "      <th>3</th>\n",
       "      <td>Dog</td>\n",
       "      <td>Fever</td>\n",
       "      <td>Difficulty breathing</td>\n",
       "      <td>Coughing</td>\n",
       "      <td>Lethargy</td>\n",
       "      <td>Sneezing</td>\n",
       "      <td>Yes</td>\n",
       "    </tr>\n",
       "    <tr>\n",
       "      <th>4</th>\n",
       "      <td>Dog</td>\n",
       "      <td>Fever</td>\n",
       "      <td>Diarrhea</td>\n",
       "      <td>Coughing</td>\n",
       "      <td>Lethargy</td>\n",
       "      <td>Blue Eye</td>\n",
       "      <td>Yes</td>\n",
       "    </tr>\n",
       "  </tbody>\n",
       "</table>\n",
       "</div>"
      ],
      "text/plain": [
       "  AnimalName symptoms1             symptoms2 symptoms3    symptoms4  \\\n",
       "0        Dog     Fever              Diarrhea  Vomiting  Weight loss   \n",
       "1        Dog     Fever              Diarrhea  Coughing    Tiredness   \n",
       "2        Dog     Fever              Diarrhea  Coughing     Vomiting   \n",
       "3        Dog     Fever  Difficulty breathing  Coughing     Lethargy   \n",
       "4        Dog     Fever              Diarrhea  Coughing     Lethargy   \n",
       "\n",
       "     symptoms5 Dangerous  \n",
       "0  Dehydration       Yes  \n",
       "1        Pains       Yes  \n",
       "2     Anorexia       Yes  \n",
       "3     Sneezing       Yes  \n",
       "4     Blue Eye       Yes  "
      ]
     },
     "execution_count": 4,
     "metadata": {},
     "output_type": "execute_result"
    }
   ],
   "source": [
    "df.head()"
   ]
  },
  {
   "cell_type": "code",
   "execution_count": 5,
   "metadata": {},
   "outputs": [
    {
     "name": "stdout",
     "output_type": "stream",
     "text": [
      "\n",
      "Encoded Dataset:\n",
      "  AnimalName symptoms1             symptoms2 symptoms3    symptoms4  \\\n",
      "0        Dog     Fever              Diarrhea  Vomiting  Weight loss   \n",
      "1        Dog     Fever              Diarrhea  Coughing    Tiredness   \n",
      "2        Dog     Fever              Diarrhea  Coughing     Vomiting   \n",
      "3        Dog     Fever  Difficulty breathing  Coughing     Lethargy   \n",
      "4        Dog     Fever              Diarrhea  Coughing     Lethargy   \n",
      "\n",
      "     symptoms5 Dangerous  AnimalName_en  symptoms1_en  symptoms2_en  \\\n",
      "0  Dehydration       Yes              6            63            31   \n",
      "1        Pains       Yes              6            63            31   \n",
      "2     Anorexia       Yes              6            63            31   \n",
      "3     Sneezing       Yes              6            63            34   \n",
      "4     Blue Eye       Yes              6            63            31   \n",
      "\n",
      "   symptoms3_en  symptoms4_en  symptoms5_en  \n",
      "0           179           182            32  \n",
      "1            31           165           113  \n",
      "2            31           173             8  \n",
      "3            31            87           142  \n",
      "4            31            87            21  \n"
     ]
    }
   ],
   "source": [
    "from sklearn.preprocessing import LabelEncoder\n",
    "\n",
    "# Define the columns to be encoded\n",
    "categorical_cols = ['AnimalName', 'symptoms1', 'symptoms2', \n",
    "                    'symptoms3', 'symptoms4', 'symptoms5']\n",
    "\n",
    "# Initialize the LabelEncoder\n",
    "label_encoder_X = {}\n",
    "\n",
    "# Encode categorical variables\n",
    "for col in categorical_cols:\n",
    "    label_encoder_X[col] = LabelEncoder()\n",
    "    df[col + '_en'] = label_encoder_X[col].fit_transform(df[col])\n",
    "\n",
    "# Display the first few rows of the dataset with encoded variables\n",
    "print(\"\\nEncoded Dataset:\")\n",
    "print(df.head())"
   ]
  },
  {
   "cell_type": "code",
   "execution_count": 6,
   "metadata": {},
   "outputs": [],
   "source": [
    "# Separate features (X) and target variable (y)\n",
    "selected_columns = ['AnimalName_en', 'symptoms1_en', 'symptoms2_en', 'symptoms3_en', 'symptoms4_en', 'symptoms5_en']\n",
    "X = df[selected_columns]\n",
    "y = df['Dangerous']"
   ]
  },
  {
   "cell_type": "code",
   "execution_count": 7,
   "metadata": {},
   "outputs": [],
   "source": [
    "from sklearn.preprocessing import LabelEncoder\n",
    "\n",
    "# Encode target variable using LabelEncoder\n",
    "label_encoder_Y = LabelEncoder()\n",
    "y = label_encoder_Y.fit_transform(y)"
   ]
  },
  {
   "cell_type": "code",
   "execution_count": 8,
   "metadata": {},
   "outputs": [],
   "source": [
    "# Split the dataset into training and testing sets\n",
    "X_train, X_test, y_train, y_test = train_test_split(X, y, test_size=0.2, random_state=42)"
   ]
  },
  {
   "cell_type": "code",
   "execution_count": 9,
   "metadata": {},
   "outputs": [
    {
     "data": {
      "text/plain": [
       "AnimalName_en    int32\n",
       "symptoms1_en     int32\n",
       "symptoms2_en     int32\n",
       "symptoms3_en     int32\n",
       "symptoms4_en     int32\n",
       "symptoms5_en     int32\n",
       "dtype: object"
      ]
     },
     "execution_count": 9,
     "metadata": {},
     "output_type": "execute_result"
    }
   ],
   "source": [
    "X.dtypes"
   ]
  },
  {
   "cell_type": "code",
   "execution_count": 10,
   "metadata": {},
   "outputs": [
    {
     "name": "stderr",
     "output_type": "stream",
     "text": [
      "g:\\GitHub\\Zootopia\\animaldetect\\Lib\\site-packages\\keras\\src\\layers\\core\\dense.py:87: UserWarning: Do not pass an `input_shape`/`input_dim` argument to a layer. When using Sequential models, prefer using an `Input(shape)` object as the first layer in the model instead.\n",
      "  super().__init__(activity_regularizer=activity_regularizer, **kwargs)\n"
     ]
    }
   ],
   "source": [
    "import tensorflow as tf\n",
    "from tensorflow.keras.models import Sequential\n",
    "from tensorflow.keras.layers import Dense, Dropout\n",
    "\n",
    "# Define the neural network model\n",
    "model = Sequential([\n",
    "    # Input layer with 10 nodes\n",
    "    Dense(128, activation='relu', input_shape=(6,)),\n",
    "    Dropout(0.5),\n",
    "    Dense(64, activation='relu'),\n",
    "    Dropout(0.5),\n",
    "    # Output layer with appropriate activation function\n",
    "    Dense(5, activation='softmax')  # Assuming 3 classes for the output\n",
    "])\n",
    "\n",
    "# Compile the model\n",
    "model.compile(optimizer='adam',\n",
    "              loss='sparse_categorical_crossentropy',  # Use sparse categorical crossentropy for integer labels\n",
    "              metrics=['accuracy'])\n"
   ]
  },
  {
   "cell_type": "code",
   "execution_count": 11,
   "metadata": {},
   "outputs": [
    {
     "data": {
      "text/html": [
       "<pre style=\"white-space:pre;overflow-x:auto;line-height:normal;font-family:Menlo,'DejaVu Sans Mono',consolas,'Courier New',monospace\"><span style=\"font-weight: bold\">Model: \"sequential\"</span>\n",
       "</pre>\n"
      ],
      "text/plain": [
       "\u001b[1mModel: \"sequential\"\u001b[0m\n"
      ]
     },
     "metadata": {},
     "output_type": "display_data"
    },
    {
     "data": {
      "text/html": [
       "<pre style=\"white-space:pre;overflow-x:auto;line-height:normal;font-family:Menlo,'DejaVu Sans Mono',consolas,'Courier New',monospace\">┏━━━━━━━━━━━━━━━━━━━━━━━━━━━━━━━━━┳━━━━━━━━━━━━━━━━━━━━━━━━┳━━━━━━━━━━━━━━━┓\n",
       "┃<span style=\"font-weight: bold\"> Layer (type)                    </span>┃<span style=\"font-weight: bold\"> Output Shape           </span>┃<span style=\"font-weight: bold\">       Param # </span>┃\n",
       "┡━━━━━━━━━━━━━━━━━━━━━━━━━━━━━━━━━╇━━━━━━━━━━━━━━━━━━━━━━━━╇━━━━━━━━━━━━━━━┩\n",
       "│ dense (<span style=\"color: #0087ff; text-decoration-color: #0087ff\">Dense</span>)                   │ (<span style=\"color: #00d7ff; text-decoration-color: #00d7ff\">None</span>, <span style=\"color: #00af00; text-decoration-color: #00af00\">128</span>)            │           <span style=\"color: #00af00; text-decoration-color: #00af00\">896</span> │\n",
       "├─────────────────────────────────┼────────────────────────┼───────────────┤\n",
       "│ dropout (<span style=\"color: #0087ff; text-decoration-color: #0087ff\">Dropout</span>)               │ (<span style=\"color: #00d7ff; text-decoration-color: #00d7ff\">None</span>, <span style=\"color: #00af00; text-decoration-color: #00af00\">128</span>)            │             <span style=\"color: #00af00; text-decoration-color: #00af00\">0</span> │\n",
       "├─────────────────────────────────┼────────────────────────┼───────────────┤\n",
       "│ dense_1 (<span style=\"color: #0087ff; text-decoration-color: #0087ff\">Dense</span>)                 │ (<span style=\"color: #00d7ff; text-decoration-color: #00d7ff\">None</span>, <span style=\"color: #00af00; text-decoration-color: #00af00\">64</span>)             │         <span style=\"color: #00af00; text-decoration-color: #00af00\">8,256</span> │\n",
       "├─────────────────────────────────┼────────────────────────┼───────────────┤\n",
       "│ dropout_1 (<span style=\"color: #0087ff; text-decoration-color: #0087ff\">Dropout</span>)             │ (<span style=\"color: #00d7ff; text-decoration-color: #00d7ff\">None</span>, <span style=\"color: #00af00; text-decoration-color: #00af00\">64</span>)             │             <span style=\"color: #00af00; text-decoration-color: #00af00\">0</span> │\n",
       "├─────────────────────────────────┼────────────────────────┼───────────────┤\n",
       "│ dense_2 (<span style=\"color: #0087ff; text-decoration-color: #0087ff\">Dense</span>)                 │ (<span style=\"color: #00d7ff; text-decoration-color: #00d7ff\">None</span>, <span style=\"color: #00af00; text-decoration-color: #00af00\">5</span>)              │           <span style=\"color: #00af00; text-decoration-color: #00af00\">325</span> │\n",
       "└─────────────────────────────────┴────────────────────────┴───────────────┘\n",
       "</pre>\n"
      ],
      "text/plain": [
       "┏━━━━━━━━━━━━━━━━━━━━━━━━━━━━━━━━━┳━━━━━━━━━━━━━━━━━━━━━━━━┳━━━━━━━━━━━━━━━┓\n",
       "┃\u001b[1m \u001b[0m\u001b[1mLayer (type)                   \u001b[0m\u001b[1m \u001b[0m┃\u001b[1m \u001b[0m\u001b[1mOutput Shape          \u001b[0m\u001b[1m \u001b[0m┃\u001b[1m \u001b[0m\u001b[1m      Param #\u001b[0m\u001b[1m \u001b[0m┃\n",
       "┡━━━━━━━━━━━━━━━━━━━━━━━━━━━━━━━━━╇━━━━━━━━━━━━━━━━━━━━━━━━╇━━━━━━━━━━━━━━━┩\n",
       "│ dense (\u001b[38;5;33mDense\u001b[0m)                   │ (\u001b[38;5;45mNone\u001b[0m, \u001b[38;5;34m128\u001b[0m)            │           \u001b[38;5;34m896\u001b[0m │\n",
       "├─────────────────────────────────┼────────────────────────┼───────────────┤\n",
       "│ dropout (\u001b[38;5;33mDropout\u001b[0m)               │ (\u001b[38;5;45mNone\u001b[0m, \u001b[38;5;34m128\u001b[0m)            │             \u001b[38;5;34m0\u001b[0m │\n",
       "├─────────────────────────────────┼────────────────────────┼───────────────┤\n",
       "│ dense_1 (\u001b[38;5;33mDense\u001b[0m)                 │ (\u001b[38;5;45mNone\u001b[0m, \u001b[38;5;34m64\u001b[0m)             │         \u001b[38;5;34m8,256\u001b[0m │\n",
       "├─────────────────────────────────┼────────────────────────┼───────────────┤\n",
       "│ dropout_1 (\u001b[38;5;33mDropout\u001b[0m)             │ (\u001b[38;5;45mNone\u001b[0m, \u001b[38;5;34m64\u001b[0m)             │             \u001b[38;5;34m0\u001b[0m │\n",
       "├─────────────────────────────────┼────────────────────────┼───────────────┤\n",
       "│ dense_2 (\u001b[38;5;33mDense\u001b[0m)                 │ (\u001b[38;5;45mNone\u001b[0m, \u001b[38;5;34m5\u001b[0m)              │           \u001b[38;5;34m325\u001b[0m │\n",
       "└─────────────────────────────────┴────────────────────────┴───────────────┘\n"
      ]
     },
     "metadata": {},
     "output_type": "display_data"
    },
    {
     "data": {
      "text/html": [
       "<pre style=\"white-space:pre;overflow-x:auto;line-height:normal;font-family:Menlo,'DejaVu Sans Mono',consolas,'Courier New',monospace\"><span style=\"font-weight: bold\"> Total params: </span><span style=\"color: #00af00; text-decoration-color: #00af00\">9,477</span> (37.02 KB)\n",
       "</pre>\n"
      ],
      "text/plain": [
       "\u001b[1m Total params: \u001b[0m\u001b[38;5;34m9,477\u001b[0m (37.02 KB)\n"
      ]
     },
     "metadata": {},
     "output_type": "display_data"
    },
    {
     "data": {
      "text/html": [
       "<pre style=\"white-space:pre;overflow-x:auto;line-height:normal;font-family:Menlo,'DejaVu Sans Mono',consolas,'Courier New',monospace\"><span style=\"font-weight: bold\"> Trainable params: </span><span style=\"color: #00af00; text-decoration-color: #00af00\">9,477</span> (37.02 KB)\n",
       "</pre>\n"
      ],
      "text/plain": [
       "\u001b[1m Trainable params: \u001b[0m\u001b[38;5;34m9,477\u001b[0m (37.02 KB)\n"
      ]
     },
     "metadata": {},
     "output_type": "display_data"
    },
    {
     "data": {
      "text/html": [
       "<pre style=\"white-space:pre;overflow-x:auto;line-height:normal;font-family:Menlo,'DejaVu Sans Mono',consolas,'Courier New',monospace\"><span style=\"font-weight: bold\"> Non-trainable params: </span><span style=\"color: #00af00; text-decoration-color: #00af00\">0</span> (0.00 B)\n",
       "</pre>\n"
      ],
      "text/plain": [
       "\u001b[1m Non-trainable params: \u001b[0m\u001b[38;5;34m0\u001b[0m (0.00 B)\n"
      ]
     },
     "metadata": {},
     "output_type": "display_data"
    }
   ],
   "source": [
    "model.summary()"
   ]
  },
  {
   "cell_type": "code",
   "execution_count": 12,
   "metadata": {},
   "outputs": [
    {
     "name": "stdout",
     "output_type": "stream",
     "text": [
      "Number of classes: 3\n"
     ]
    }
   ],
   "source": [
    "import numpy as np\n",
    "\n",
    "# Assuming y_train contains your training labels\n",
    "num_classes = np.unique(y_train).shape[0]\n",
    "print(\"Number of classes:\", num_classes)"
   ]
  },
  {
   "cell_type": "code",
   "execution_count": 13,
   "metadata": {},
   "outputs": [
    {
     "name": "stdout",
     "output_type": "stream",
     "text": [
      "Epoch 1/30\n",
      "\u001b[1m18/18\u001b[0m \u001b[32m━━━━━━━━━━━━━━━━━━━━\u001b[0m\u001b[37m\u001b[0m \u001b[1m5s\u001b[0m 22ms/step - accuracy: 0.5643 - loss: 16.9296 - val_accuracy: 0.9643 - val_loss: 3.4609\n",
      "Epoch 2/30\n",
      "\u001b[1m18/18\u001b[0m \u001b[32m━━━━━━━━━━━━━━━━━━━━\u001b[0m\u001b[37m\u001b[0m \u001b[1m0s\u001b[0m 4ms/step - accuracy: 0.9426 - loss: 3.1306 - val_accuracy: 0.9643 - val_loss: 3.5140\n",
      "Epoch 3/30\n",
      "\u001b[1m18/18\u001b[0m \u001b[32m━━━━━━━━━━━━━━━━━━━━\u001b[0m\u001b[37m\u001b[0m \u001b[1m0s\u001b[0m 5ms/step - accuracy: 0.9545 - loss: 2.2129 - val_accuracy: 0.9643 - val_loss: 2.8681\n",
      "Epoch 4/30\n",
      "\u001b[1m18/18\u001b[0m \u001b[32m━━━━━━━━━━━━━━━━━━━━\u001b[0m\u001b[37m\u001b[0m \u001b[1m0s\u001b[0m 4ms/step - accuracy: 0.9396 - loss: 2.8908 - val_accuracy: 0.9643 - val_loss: 2.4591\n",
      "Epoch 5/30\n",
      "\u001b[1m18/18\u001b[0m \u001b[32m━━━━━━━━━━━━━━━━━━━━\u001b[0m\u001b[37m\u001b[0m \u001b[1m0s\u001b[0m 4ms/step - accuracy: 0.9514 - loss: 2.1381 - val_accuracy: 0.9643 - val_loss: 2.1377\n",
      "Epoch 6/30\n",
      "\u001b[1m18/18\u001b[0m \u001b[32m━━━━━━━━━━━━━━━━━━━━\u001b[0m\u001b[37m\u001b[0m \u001b[1m0s\u001b[0m 4ms/step - accuracy: 0.9306 - loss: 2.5674 - val_accuracy: 0.9643 - val_loss: 1.8044\n",
      "Epoch 7/30\n",
      "\u001b[1m18/18\u001b[0m \u001b[32m━━━━━━━━━━━━━━━━━━━━\u001b[0m\u001b[37m\u001b[0m \u001b[1m0s\u001b[0m 5ms/step - accuracy: 0.9294 - loss: 1.6745 - val_accuracy: 0.9643 - val_loss: 1.7904\n",
      "Epoch 8/30\n",
      "\u001b[1m18/18\u001b[0m \u001b[32m━━━━━━━━━━━━━━━━━━━━\u001b[0m\u001b[37m\u001b[0m \u001b[1m0s\u001b[0m 4ms/step - accuracy: 0.9395 - loss: 1.8452 - val_accuracy: 0.9643 - val_loss: 1.5295\n",
      "Epoch 9/30\n",
      "\u001b[1m18/18\u001b[0m \u001b[32m━━━━━━━━━━━━━━━━━━━━\u001b[0m\u001b[37m\u001b[0m \u001b[1m0s\u001b[0m 5ms/step - accuracy: 0.9597 - loss: 1.1847 - val_accuracy: 0.9643 - val_loss: 1.2431\n",
      "Epoch 10/30\n",
      "\u001b[1m18/18\u001b[0m \u001b[32m━━━━━━━━━━━━━━━━━━━━\u001b[0m\u001b[37m\u001b[0m \u001b[1m0s\u001b[0m 5ms/step - accuracy: 0.9264 - loss: 1.7836 - val_accuracy: 0.9643 - val_loss: 0.9253\n",
      "Epoch 11/30\n",
      "\u001b[1m18/18\u001b[0m \u001b[32m━━━━━━━━━━━━━━━━━━━━\u001b[0m\u001b[37m\u001b[0m \u001b[1m0s\u001b[0m 5ms/step - accuracy: 0.9042 - loss: 1.2780 - val_accuracy: 0.9643 - val_loss: 0.8713\n",
      "Epoch 12/30\n",
      "\u001b[1m18/18\u001b[0m \u001b[32m━━━━━━━━━━━━━━━━━━━━\u001b[0m\u001b[37m\u001b[0m \u001b[1m0s\u001b[0m 5ms/step - accuracy: 0.9415 - loss: 0.9120 - val_accuracy: 0.9643 - val_loss: 0.7990\n",
      "Epoch 13/30\n",
      "\u001b[1m18/18\u001b[0m \u001b[32m━━━━━━━━━━━━━━━━━━━━\u001b[0m\u001b[37m\u001b[0m \u001b[1m0s\u001b[0m 4ms/step - accuracy: 0.9283 - loss: 0.9168 - val_accuracy: 0.9643 - val_loss: 0.7217\n",
      "Epoch 14/30\n",
      "\u001b[1m18/18\u001b[0m \u001b[32m━━━━━━━━━━━━━━━━━━━━\u001b[0m\u001b[37m\u001b[0m \u001b[1m0s\u001b[0m 9ms/step - accuracy: 0.9373 - loss: 0.8606 - val_accuracy: 0.9643 - val_loss: 0.6406\n",
      "Epoch 15/30\n",
      "\u001b[1m18/18\u001b[0m \u001b[32m━━━━━━━━━━━━━━━━━━━━\u001b[0m\u001b[37m\u001b[0m \u001b[1m0s\u001b[0m 5ms/step - accuracy: 0.9234 - loss: 1.0209 - val_accuracy: 0.9643 - val_loss: 0.6120\n",
      "Epoch 16/30\n",
      "\u001b[1m18/18\u001b[0m \u001b[32m━━━━━━━━━━━━━━━━━━━━\u001b[0m\u001b[37m\u001b[0m \u001b[1m0s\u001b[0m 6ms/step - accuracy: 0.9544 - loss: 0.7496 - val_accuracy: 0.9643 - val_loss: 0.5768\n",
      "Epoch 17/30\n",
      "\u001b[1m18/18\u001b[0m \u001b[32m━━━━━━━━━━━━━━━━━━━━\u001b[0m\u001b[37m\u001b[0m \u001b[1m0s\u001b[0m 6ms/step - accuracy: 0.9424 - loss: 0.6238 - val_accuracy: 0.9643 - val_loss: 0.5131\n",
      "Epoch 18/30\n",
      "\u001b[1m18/18\u001b[0m \u001b[32m━━━━━━━━━━━━━━━━━━━━\u001b[0m\u001b[37m\u001b[0m \u001b[1m0s\u001b[0m 5ms/step - accuracy: 0.9553 - loss: 0.4795 - val_accuracy: 0.9643 - val_loss: 0.4557\n",
      "Epoch 19/30\n",
      "\u001b[1m18/18\u001b[0m \u001b[32m━━━━━━━━━━━━━━━━━━━━\u001b[0m\u001b[37m\u001b[0m \u001b[1m0s\u001b[0m 5ms/step - accuracy: 0.9502 - loss: 0.5700 - val_accuracy: 0.9643 - val_loss: 0.4352\n",
      "Epoch 20/30\n",
      "\u001b[1m18/18\u001b[0m \u001b[32m━━━━━━━━━━━━━━━━━━━━\u001b[0m\u001b[37m\u001b[0m \u001b[1m0s\u001b[0m 5ms/step - accuracy: 0.9282 - loss: 0.7662 - val_accuracy: 0.9643 - val_loss: 0.3928\n",
      "Epoch 21/30\n",
      "\u001b[1m18/18\u001b[0m \u001b[32m━━━━━━━━━━━━━━━━━━━━\u001b[0m\u001b[37m\u001b[0m \u001b[1m0s\u001b[0m 4ms/step - accuracy: 0.9438 - loss: 0.4352 - val_accuracy: 0.9643 - val_loss: 0.3869\n",
      "Epoch 22/30\n",
      "\u001b[1m18/18\u001b[0m \u001b[32m━━━━━━━━━━━━━━━━━━━━\u001b[0m\u001b[37m\u001b[0m \u001b[1m0s\u001b[0m 5ms/step - accuracy: 0.9409 - loss: 0.5405 - val_accuracy: 0.9643 - val_loss: 0.3674\n",
      "Epoch 23/30\n",
      "\u001b[1m18/18\u001b[0m \u001b[32m━━━━━━━━━━━━━━━━━━━━\u001b[0m\u001b[37m\u001b[0m \u001b[1m0s\u001b[0m 5ms/step - accuracy: 0.9479 - loss: 0.4586 - val_accuracy: 0.9643 - val_loss: 0.3462\n",
      "Epoch 24/30\n",
      "\u001b[1m18/18\u001b[0m \u001b[32m━━━━━━━━━━━━━━━━━━━━\u001b[0m\u001b[37m\u001b[0m \u001b[1m0s\u001b[0m 6ms/step - accuracy: 0.9680 - loss: 0.3161 - val_accuracy: 0.9643 - val_loss: 0.3221\n",
      "Epoch 25/30\n",
      "\u001b[1m18/18\u001b[0m \u001b[32m━━━━━━━━━━━━━━━━━━━━\u001b[0m\u001b[37m\u001b[0m \u001b[1m0s\u001b[0m 5ms/step - accuracy: 0.9444 - loss: 0.2558 - val_accuracy: 0.9643 - val_loss: 0.3257\n",
      "Epoch 26/30\n",
      "\u001b[1m18/18\u001b[0m \u001b[32m━━━━━━━━━━━━━━━━━━━━\u001b[0m\u001b[37m\u001b[0m \u001b[1m0s\u001b[0m 5ms/step - accuracy: 0.9544 - loss: 0.3945 - val_accuracy: 0.9643 - val_loss: 0.2855\n",
      "Epoch 27/30\n",
      "\u001b[1m18/18\u001b[0m \u001b[32m━━━━━━━━━━━━━━━━━━━━\u001b[0m\u001b[37m\u001b[0m \u001b[1m0s\u001b[0m 5ms/step - accuracy: 0.9468 - loss: 0.3353 - val_accuracy: 0.9643 - val_loss: 0.3043\n",
      "Epoch 28/30\n",
      "\u001b[1m18/18\u001b[0m \u001b[32m━━━━━━━━━━━━━━━━━━━━\u001b[0m\u001b[37m\u001b[0m \u001b[1m0s\u001b[0m 5ms/step - accuracy: 0.9575 - loss: 0.2689 - val_accuracy: 0.9643 - val_loss: 0.3039\n",
      "Epoch 29/30\n",
      "\u001b[1m18/18\u001b[0m \u001b[32m━━━━━━━━━━━━━━━━━━━━\u001b[0m\u001b[37m\u001b[0m \u001b[1m0s\u001b[0m 5ms/step - accuracy: 0.9638 - loss: 0.2176 - val_accuracy: 0.9643 - val_loss: 0.2833\n",
      "Epoch 30/30\n",
      "\u001b[1m18/18\u001b[0m \u001b[32m━━━━━━━━━━━━━━━━━━━━\u001b[0m\u001b[37m\u001b[0m \u001b[1m0s\u001b[0m 7ms/step - accuracy: 0.9279 - loss: 0.4889 - val_accuracy: 0.9643 - val_loss: 0.2554\n"
     ]
    }
   ],
   "source": [
    "# Train the model (assuming X_train and y_train are your training data)\n",
    "history = model.fit(X_train, y_train, validation_split=0.2, epochs=30, batch_size=32)"
   ]
  },
  {
   "cell_type": "code",
   "execution_count": 14,
   "metadata": {},
   "outputs": [
    {
     "name": "stdout",
     "output_type": "stream",
     "text": [
      "\u001b[1m6/6\u001b[0m \u001b[32m━━━━━━━━━━━━━━━━━━━━\u001b[0m\u001b[37m\u001b[0m \u001b[1m0s\u001b[0m 419us/step - accuracy: 0.9938 - loss: 0.0515\n",
      "Test Accuracy: 0.9885714054107666\n"
     ]
    }
   ],
   "source": [
    "import numpy as np\n",
    "\n",
    "# Evaluate the model on the test set\n",
    "test_loss, test_accuracy = model.evaluate(X_test, y_test)\n",
    "print(\"Test Accuracy:\", test_accuracy)"
   ]
  },
  {
   "cell_type": "code",
   "execution_count": 15,
   "metadata": {},
   "outputs": [
    {
     "name": "stderr",
     "output_type": "stream",
     "text": [
      "WARNING:absl:You are saving your model as an HDF5 file via `model.save()` or `keras.saving.save_model(model)`. This file format is considered legacy. We recommend using instead the native Keras format, e.g. `model.save('my_model.keras')` or `keras.saving.save_model(model, 'my_model.keras')`. \n"
     ]
    }
   ],
   "source": [
    "# Save the model\n",
    "model.save(\"model.h5\")"
   ]
  },
  {
   "cell_type": "code",
   "execution_count": 16,
   "metadata": {},
   "outputs": [
    {
     "data": {
      "text/plain": [
       "['label_encoder_Y_classes.joblib']"
      ]
     },
     "execution_count": 16,
     "metadata": {},
     "output_type": "execute_result"
    }
   ],
   "source": [
    "from joblib import dump\n",
    "\n",
    "# Save the label encoder classes\n",
    "for col, encoder in label_encoder_X.items():\n",
    "    dump(encoder, f'label_encoder_{col}_classes.joblib')\n",
    "    \n",
    "dump(label_encoder_Y, 'label_encoder_Y_classes.joblib')"
   ]
  },
  {
   "cell_type": "code",
   "execution_count": 18,
   "metadata": {},
   "outputs": [],
   "source": [
    "import pickle\n",
    "\n",
    "# Save the label encoder to a file\n",
    "with open('label_encoder_X.pkl', 'wb') as f:\n",
    "    pickle.dump(label_encoder_X, f)"
   ]
  },
  {
   "cell_type": "code",
   "execution_count": 19,
   "metadata": {},
   "outputs": [],
   "source": [
    "import pickle\n",
    "\n",
    "# Save the label encoder to a file\n",
    "with open('label_encoder_Y.pkl', 'wb') as f:\n",
    "    pickle.dump(label_encoder_Y, f)"
   ]
  },
  {
   "cell_type": "code",
   "execution_count": 24,
   "metadata": {},
   "outputs": [
    {
     "name": "stdout",
     "output_type": "stream",
     "text": [
      "Classes for AnimalName: ['Birds' 'Black-tailed deer' 'Buffaloes' 'Cattle' 'Chicken' 'Deer' 'Dog'\n",
      " 'Dogs' 'Donkey' 'Duck' 'Elephant' 'Elk' 'Fowl' 'Fox' 'Fox ' 'Goat'\n",
      " 'Goats' 'Hamster' 'Horse' 'Hyaenas' 'Lion' 'Monkey' 'Moos' 'Mule deer'\n",
      " 'Other Birds' 'Pig' 'Pigs' 'Rabbit' 'Reindeer' 'Sheep' 'Sika deer'\n",
      " 'Tiger' 'Turtle' 'Wapiti' 'White-tailed deer' 'Wolves' 'cat' 'cattle'\n",
      " 'chicken' 'cow' 'donkey' 'duck' 'horse' 'mammal' 'mules' 'snake']\n",
      "Classes for symptoms1: [' abortion at the end of gestation' 'Abdominal pain' 'Abortion '\n",
      " 'Abortion on late pregancy' 'Air sacculitis' 'Allergic Reaction'\n",
      " 'Animal gets uneasy' 'Apathy' 'Appetite varies' 'Attacks' 'Bad breath'\n",
      " 'Balance problem' 'Bald patches' 'Barren ewes' 'Berberi'\n",
      " 'Bleeding from other parts of the body' 'Blood from mouth'\n",
      " 'Blood in urine' 'Blood stool' 'Bloody Diarhhea' 'Bloody Urine'\n",
      " 'Bluish white opacity' 'Bony Lesion' 'Bubbles in the mouth' 'Cell Damage'\n",
      " 'Cessation of eructation' 'Changes in outer layer skin' 'Constant pacing'\n",
      " 'Continuous loss of weight' 'Convulsion' 'Coughing\\xa0'\n",
      " 'Dark or black face' 'Decreased eyelid' 'Decreased growth of bone'\n",
      " 'Decreased milk' 'Dejection' 'Diarrhea with muscus'\n",
      " 'Difficulty in breathing' 'Difficulty in feeding' 'Discharge '\n",
      " 'Discharge From eyes' 'Discomfort' 'Dizzines' 'Drooping ears'\n",
      " 'Drooping wings' 'Dullness' 'Dyspnea' 'Edema' 'Egg production stops'\n",
      " 'Emaciation' 'Enlarged Thymus' 'Excess salivation' 'Excessive blood loss'\n",
      " 'Excessive eye watering' 'Excitability' 'Exessive Urination'\n",
      " 'Extreme thirst' 'Eye redness' 'Facial Swelling' 'Facial edema'\n",
      " 'Fatty stool' 'Feather Loss' 'Fetopelvic dispropotion' 'Fever'\n",
      " 'Floopy muscle' 'Fluffed Feather' 'Fluif Faeces on blood and muscle'\n",
      " 'Formation of vesicles' 'Forthy eye' 'Foul Smelling' 'Gas' 'Gasc'\n",
      " 'Gasping' 'Gastritis' 'General malaise' 'Greenish-yellow nasal discharge'\n",
      " 'Groosly enlarged' 'Hair loss' 'Head Shking' 'Head tilt' 'Head tossing'\n",
      " 'Heavy Breathing' 'Heavy infection' 'Hemopytsis' 'Hyperexcitability'\n",
      " 'Immediate death' 'Inability to digest' 'Inability to stand '\n",
      " 'Inappentence' 'Indigestion' 'Inflammation ' 'Isolation from flock'\n",
      " 'Jaundice' 'Labored breathing' 'Lack of walking' 'Legness' 'Lepatomegaly'\n",
      " 'Lesions in the nasal cavity' 'Lession on cat skin' 'Lethargy' 'Limping'\n",
      " 'Liquid Dropping' 'Listless' 'Loss od appetite' 'Loss of activity'\n",
      " 'Loss of appetite' 'Loss of eat' 'Mortality' 'Most often none'\n",
      " 'Nasal Bleeding' 'Nasal discharge' 'Nausea' 'Neck paralysis'\n",
      " 'Normal appetite' 'Nosebleed\\xa0' 'Oedema' 'Overweight' 'Pale comb'\n",
      " 'Partial Paralysis' 'Passing of undigested food' 'Pnemonia' 'Polyuria'\n",
      " 'Poor coat apperence ' 'Poor condition' 'Poor growth'\n",
      " 'Poor immune function' 'Poor wool' 'Puffed_up Feather' 'Pyrexia'\n",
      " 'Radip onset' 'Red Tinge' 'Red on affected area' 'Red skin'\n",
      " 'Reluctant Move' 'Respiratory distress' 'Restlessness' 'Rhinitis'\n",
      " 'Ring shaped Lesion' 'Ruffled Appearance' 'Runny nose' 'Scabs On feet'\n",
      " 'Scaly patches of skin' 'Sensitivity to bright light' 'Severe'\n",
      " 'Severe kerititis' 'Severe swellimg' 'Shaking head' 'Shallow breathing'\n",
      " 'Sharp Feather' 'Sheep often bites' 'Short term lethargy'\n",
      " 'Shortness of breath.' 'Sickness' 'Signs in rams' 'Sinuses'\n",
      " 'Skeleten abnormalities' 'Skin color change' 'Skin infection'\n",
      " 'Skin irritation' 'Skin rashes' 'SkinAllergy' 'Small red bumps' 'Smell'\n",
      " 'Smell of ammonia' 'Sneezing' 'Sores on lip' 'Spines' 'Straining'\n",
      " 'Stripped remiges' 'Strong cough' 'Sudden death' 'Swaying' 'Swelling'\n",
      " 'Swelling of udder' 'Swelling on leg' 'Swollen' 'Swollen Belly'\n",
      " 'Swollen left abdomen' 'Swollen lymph nodes' 'Tail Wagging'\n",
      " 'Tear production' 'Teeth griding' 'Tenderness' 'Thick Crusting'\n",
      " 'Thicked skin' 'Thivk skin' 'Tremor ' 'Tremor of head and neck' 'Tremors'\n",
      " 'Ulcers' 'Undigested in their feces' 'Unsteady Gait' 'Upset stomach'\n",
      " 'Vomiting' 'Wandering' 'Watering' 'Watering Diarrhea' 'Watering of eyes'\n",
      " 'Watery Diarrhea dispropotion' 'Watery Eyes' 'Weakness' 'Wether restless'\n",
      " 'Wheezing' 'Wool is clumped' 'burning ache or pain' 'changed gait'\n",
      " 'cough' 'cough\\xa0' 'difficulty swallowing' 'egg production decreases'\n",
      " 'extending its neck' 'eye discharges' 'feline infections' 'fever'\n",
      " 'haemorrhage' 'head tilt' 'lllthrift' 'loss in weight' 'loss of appetite'\n",
      " 'nausea' 'outstretched neck' 'paresis' 'stop eating' 'sudden death'\n",
      " 'sweating' 'swelling' 'swollen' 'unable to urinate' 'undernutrition'\n",
      " 'wasting' 'weakness' 'weight loss']\n",
      "Classes for symptoms2: ['Abdminal pain' 'Abdominal destention' 'Abortion' 'Achomotrica' 'Anemia'\n",
      " 'Animal become lame' 'Anoxeria' 'Anversion to light' 'Apathy' 'Ataxia'\n",
      " 'Aversion to light' 'Behaviour change' 'Blindness' 'Bloody Drool'\n",
      " 'Bloody diarrhea' 'Body stiffness' 'Bottle jaw' 'Broody behavior'\n",
      " 'Change in gait' 'Chills' 'Chronic eye inflamation' 'Circling'\n",
      " 'Clubbed Feather' 'Conjunctive' 'Convulsion' 'Crusty' 'Dandruff'\n",
      " 'Dandruff in cat coat' 'Dark colored bloody' 'Death' 'Depression'\n",
      " 'Diarrhea' 'Diffculty breathing' 'Difficultty in Breathing'\n",
      " 'Difficulty breathing' 'Difficulty in breathing' 'Difficulty in walking'\n",
      " 'Difficulty walking' 'Diffulty Swallowing' 'Diffulty chewing'\n",
      " 'Discharge from ear' 'Discomfort' 'Disharge from affected eye' 'Distress'\n",
      " 'Dull' 'Dullness' 'Dysentery' 'Dyspnea' 'Edema in lower jaw'\n",
      " 'Enlarged lymph nodes' 'Epistaxis' 'Erythema' 'Excession Salivation'\n",
      " 'Exhaustion' 'Eye closed' 'Eye redness' 'Eye ulcer' 'Facial defects'\n",
      " 'Facial muscle twitching' 'Fatigue' 'Feather Plucking' 'Feels stiff'\n",
      " 'Fell unwell' 'Fleece become thin' 'Foot Hot' 'Frequent eye Infections'\n",
      " 'Hair loss' 'Hair tining' 'Halitosis' 'Heat' 'Heavy Breathing'\n",
      " 'Hemolytic anemia' 'Hepatic failure' 'Hepatitis'\n",
      " 'Holding limbs off the ground' 'Horny growth' 'Hot joints' 'Infection'\n",
      " 'Inflammed eye' 'Itchiness' 'Kick' 'Kicking' 'Lack of coordination'\n",
      " 'Lack of flying' 'Lack of pigmentation' 'Lacrimation' 'Lame' 'Lameness'\n",
      " 'Larynx' 'Lesions ' 'Lesions on nose' 'Less Eat' 'Less Feather growth'\n",
      " 'Lethargy' 'Lightheadedness\\xa0' 'Loss of  appetite' 'Loss of Appetite'\n",
      " 'Loss of appetite' 'Loss of consciousness' 'Loss of earing' 'Lying Down'\n",
      " 'Lying on the side' 'Malaise' 'Mild sneezing' 'Mummification'\n",
      " 'Muscle Loss' 'Muscular Spasms' 'Nasal discharge' 'Nervousness'\n",
      " 'Neurologic sign' 'No appp' 'Nosebleeds' 'Nostrils' 'Obstructed Lungs'\n",
      " 'Oral lesion' 'Painfull' 'Pains to Walk' 'Paresis'\n",
      " 'Pawing at the face or nose' 'Pneumonia\\xa0' 'Poor appetite'\n",
      " 'Poor coat condition' 'Pox lession on skin' 'Preening' 'Rapid Breathing'\n",
      " 'Redness ' 'Redness of eye' 'Redness of white of the eye'\n",
      " 'Reduce Reproductive potential' 'Reduce growth' 'Regurgitation of food'\n",
      " 'Respiratory distress' 'Rhinorrhea' 'Rough coat' 'Round patches'\n",
      " 'Runny nose' 'Scartching' 'Scartching ear' 'Secondary Infection'\n",
      " 'Seizures' 'Severe headache' 'Short stature' 'Sick' 'Signs in ewe'\n",
      " 'Skin Lesion' 'Skin Rashes' 'Skin colour change' 'Skin may thicken'\n",
      " 'Slightly Swollen' 'Slim over the shell' 'Small and yellow bumps'\n",
      " 'Sneezing' 'Sore' 'Sour Throat' 'Speech delay' 'Splenomegaly'\n",
      " 'Staggering as drunk' 'Stealing ' 'Stiff' 'Stiffness' 'Stillbirth'\n",
      " 'Straining' 'Straw colored' 'Succumb' 'Sudden Abortion' 'Sudden Death'\n",
      " 'Swelling' 'Swelling  in the bite area' 'Swelling of eye'\n",
      " 'Swelling of face or leg' 'Swollen Eyelids' 'Tachypea' 'Tensemus'\n",
      " 'Testical Pain' 'Tiredness' 'Torticollis' 'Trauma' 'Trouble walking'\n",
      " 'Twitching' 'Ulcer' 'Ulcer on gum' 'Uncharacteristic hiding'\n",
      " 'Unilateral Nasal discharge' 'Unusally thin' 'Uteria inertia'\n",
      " 'Very cold skin' 'Viability' 'Warm' 'Wasting' 'Weakness' 'Weekness'\n",
      " 'Wheezing' 'Willnot run to jump' 'Wool loss' 'Wound lesion'\n",
      " 'Yellow in beak' 'Yellow or green dropping' 'bloody discharge'\n",
      " 'change in milk' 'confusion' 'coughing\\xa0' 'cough\\xa0'\n",
      " 'decreased stool production' 'diarrhea' 'dizziness and fainting'\n",
      " 'drinking polluted water' 'dry or tacky gums' 'dull ness' 'emaciation'\n",
      " 'gasping for air' 'high body temperaure' 'high temperature' 'lathargy'\n",
      " 'loss of appetite' 'lymphosarcoma' 'mild colic' 'morbidity'\n",
      " 'muscular spasms' 'nasal discharge' 'panting' 'paralysis' 'red-colored '\n",
      " 'sneeze' 'stop drinking' 'stumbling' 'stunted growth' 'swelling problem'\n",
      " 'thirst' 'vomiting' 'weakened legs']\n",
      "Classes for symptoms3: ['Abdominal discomfort' 'Abdominal pain' 'Abnormal conformation'\n",
      " 'Abnormally long leg' 'Agalactia' 'Aggressiveness' 'Asymptomatic'\n",
      " 'Ataxia' 'Attack' 'Back Pain' 'Bad smell' 'Black on ear' 'Blindness'\n",
      " 'Blood in stool' 'Blood on faces' 'Bloody' 'Bloody Diarrhea'\n",
      " 'Bloody droping' 'Blooody Fluid' 'Blue colored lip' 'Blue straws'\n",
      " 'Bluish white opacity' 'Blurry vision' 'Bottle Jaw' 'Clearly unthrifty'\n",
      " 'Colic' 'Congestion' 'Conjuctivtis' 'Constipation' 'Convulsion'\n",
      " 'Corneal Ulceration' 'Coughing' 'Crusty'\n",
      " 'Crusty eye lashes and matting of eyelashes' 'Darkened skin' 'Death'\n",
      " 'Decreased appetite' 'Dehydration' 'Depression' 'Despression' 'Diarrhea'\n",
      " 'Difficult in respiration' 'Difficulty in Swallowing'\n",
      " 'Difficulty in rising' 'Dilation of duodenum' 'Dirty' 'Discharge'\n",
      " 'Dribbling of saliva' 'Drooling' 'Dry or dull hair' 'Dry skin' 'Dullness'\n",
      " 'Ear infection' 'Edema in lower jaw' 'Emaciation' 'Enlargement of bones'\n",
      " 'Enteritis' 'Excess salivary' 'Excessive drooling' 'Eye disharge'\n",
      " 'Eyeproblem' 'Facial Paralysis' 'Fast breathing' 'Fever' 'Flabby' 'Flank'\n",
      " 'Foul Breath' 'Gagging' 'Grinding of teeth' 'Grunting' 'Gums' 'Hair loss'\n",
      " 'Hardness' 'Headache' 'Hemoglobinuria' 'High moratality'\n",
      " 'Hind quarted soil' 'Hydrophobia' 'Hyperaestesia' 'Incoordination'\n",
      " 'Infection of the skin' 'Inflammation' 'Intellectual disability' 'Itches'\n",
      " 'Kicking at the belly' 'Kid moratality' 'Kidney failure' 'Lameness'\n",
      " 'Lession on the skin' 'Lethargy' 'Loss of appetite' 'Loss of pigment'\n",
      " 'Loss of wool' 'Lying down' 'Malpresentation' 'Moist' 'Mortality'\n",
      " 'Mucous discharge' 'Muscle Trembling' 'Muscle twiching' 'Muscle weakness'\n",
      " 'Muscles ache' 'Muscus' 'Nasal Discharge' 'Nasal discharge' 'Nause'\n",
      " 'Neck Paralysis' 'Nervous' 'Nesting behaviour' 'Normal appetite'\n",
      " 'Nose Bleeds' 'Occular discharge' 'Painfull to touch' 'Paralysis'\n",
      " 'Paralyzed leg' 'Poor Appetite' 'Poor conformation' 'Pot belly'\n",
      " 'Prostrat' 'Purplish combs' 'Pustulses' 'Red eye' 'Red patches'\n",
      " 'Reduce Energy' 'Relunctance to move' 'Relunctance to walk'\n",
      " 'Respiratory distress' 'Retained Placenda' 'Retarded Growth'\n",
      " 'Rough Hair coat' 'Roughened' 'Rub' 'Ruffled feathers' 'Scabs'\n",
      " 'Scaly skin' 'Scartches' 'Scartching ear' 'Seizuers' 'Self Mutilation'\n",
      " 'Septic Arthritis' 'Severe colic' 'Skeleten pain' 'Skin rashes'\n",
      " 'Skin reashes' 'Skin ulcer' 'Slow growth' 'Sluggish' 'Small intestines'\n",
      " 'Sneezing' 'Sores on lower leg and teats' 'Spread of infection'\n",
      " 'Staggering' 'Stand with head droping' 'Stillbirth' 'Strange behaviour'\n",
      " 'Stress' 'Stumbling' 'Sudden death' 'Sweat' 'Sweats' 'Swelling'\n",
      " 'Swelling ' 'Swelling may occur under jaw' 'Swelling of eyelid'\n",
      " 'Swelling of head and neck' 'Swelling of neck' 'Swelling on jaw'\n",
      " 'Swollen' 'Swollen Abdomen' 'Swollen kidney' 'Tail_Bobbing'\n",
      " 'Tear produce' 'Thrist and urination' 'Trachea' 'Trembling' 'Tremor'\n",
      " 'Tremors of the head' 'Underdeveloped muscles'\n",
      " 'Vitamin and minerals defiency' 'Vomiting' 'Wart-like growth' 'Wasting'\n",
      " 'Watery Stool' 'Weakness' 'Weekness in the back legs' 'Weight loss'\n",
      " 'Wool loss' 'Wound' 'Yellow Eye' 'abnormalalities' 'abortion'\n",
      " 'abscessess' 'bleeding from wounds' 'change their normal behaviour'\n",
      " 'chewing' 'chirping' 'cough\\xa0' 'difficulty breating'\n",
      " 'difficulty swallowing' 'diffuse' 'distended stomach' 'drooling'\n",
      " 'droopiness' 'droopy wings' 'facial swelling,' 'gasping for breath'\n",
      " 'hot udder' 'inappetence' 'inflamed nostrils' 'lack of appetite'\n",
      " 'lathargy' 'listlessness' 'los of the ability to walk' 'loss of appetite'\n",
      " 'loss of tail tone' 'mild weakness' 'muscles problem'\n",
      " 'muscular stiffness' 'rapid pulse and heart rates' 'reduced appetite'\n",
      " 'respiratory noise' 'ruffled feathers' 'swollen purple wattle'\n",
      " 'swollen teats' 'thirst' 'weak calves' 'weakness' 'wheezing'\n",
      " '\\xa0rapid heartbeats']\n",
      "Classes for symptoms4: ['Abdominal discomfort' 'Abortion' 'Acting aggressive' 'Aneamia'\n",
      " 'Animal stop feed' 'Anorexia' 'Appetite' 'Attempt to urinate' 'Bad smell'\n",
      " 'Beak overgrowth' 'Bite other animals' 'Bleeding wounds' 'Blindness'\n",
      " 'Blood from mouth' 'Blood in faces' 'Bloody discharge' 'Broken Bones'\n",
      " 'Chest Pain' 'Circling' 'Cloacal pasting' 'Closed eyes' 'Clouded cornea'\n",
      " 'Colic' 'Consistency of milk' 'Cornea become cloudy' 'Coughing' 'Cramps'\n",
      " 'Crusting of the skin' 'Deability' 'Death' 'Death of lamb'\n",
      " 'Decresed egg production' 'Defienciency in vitamin' 'Dehydration'\n",
      " 'Depression' 'Diarrhea' 'Difficult in walking' 'Difficulty in Walk'\n",
      " 'Difficulty in breathing' 'Discharge from eye' 'Distinctive bumps'\n",
      " 'Dry Scabs' 'Dyspnea' 'Easily damage shell' 'Edematous' 'Endomeritis'\n",
      " 'Enlarged skulls' 'Enteritis' 'Excess sleeping' 'Excessive food intake'\n",
      " 'Excessive production' 'Exercise in tolerance' 'Exhaustion'\n",
      " 'Eye and Skin change' 'Facial edema' 'Firm' 'Flaky' 'Flat ribs'\n",
      " 'Flatulence' 'Gas or bloating' 'Green Dropping' 'Grinding teeth'\n",
      " 'Hair loss' 'Hairy Fleeces' 'Half-closed eye' 'Head Pressing' 'Head ache'\n",
      " 'Heat' 'Hematuria' 'Hoarseness' 'Hock joint' 'Hyper sensitivity'\n",
      " 'Hyperesthesia' 'Immediate death' 'Inability of Swalllon Feeding'\n",
      " 'Inappentence' 'Infected navels' 'Inflammation of eye' 'Iris prolapse'\n",
      " 'Irritation' 'Itching' 'Jaw is dropped' 'Jerky limb movements'\n",
      " 'Join pains' 'Labored breathing' 'Lameness' 'Lesion' 'Lethargy' 'Limp'\n",
      " 'Lip' 'Liver disease' 'Loss of appetite' 'Loss of milk production'\n",
      " 'Loss of powder down' 'Lumps' 'Mammary glads'\n",
      " 'Milk getting out more watery' 'Milky Hard' 'Mortality' 'Mouth lesion'\n",
      " 'Mucus discharge from the eye' 'Muscle aches' 'Muscle pain' 'Nasal'\n",
      " 'Nasal discharge' 'Nausea' 'Nible at their wool' 'Noisy Breathing'\n",
      " 'Nose picking' 'Odor to Ear' 'Pain' 'Painfull' 'Painfull Swalling'\n",
      " 'Pawing at bedding' 'Pot belly' 'Pox lesion' 'Production of mucus'\n",
      " 'Profuse' 'Progressive weakness' 'Pruritis' 'Rapid Heart Rate' 'Raw'\n",
      " 'Red Diarrhea' 'Red skin' 'Redness' 'Reduce feed' 'Reduce milk '\n",
      " 'Restlessness' 'Retching' 'Ruffled Coat' 'Ruminal stasis' 'Rump'\n",
      " 'Salivation' 'Scabbing' 'Scabs on lip' 'Scartch' 'Scartches' 'Scratches'\n",
      " 'Semen Examination' 'Severe inflammation' 'Shivering' 'Shock'\n",
      " 'Size of lesions vary' 'Skin Rashes' 'Skin infection' 'Skin rashes'\n",
      " 'Small size' 'Sneezing' 'Staggering' 'Stained Wool' 'Stiffness'\n",
      " 'Stomach cramps' 'Stomach growling' 'Stumbling' 'Swallowing' 'Swelling'\n",
      " 'Swelling on joints' 'Swelling on theBody' 'Swollen' 'Swollen comb'\n",
      " 'Swolling of joint' 'Tarry Stool' 'Tears' 'Tender to touch'\n",
      " 'Thickening of skin' 'Tiredness' 'Torticollis' 'Twitching'\n",
      " 'Ulcerated muscle' 'Unable To Eat' 'Urination' 'Urine infection'\n",
      " 'Urine retention' 'Vomiting' 'Walking problem' 'Wasting' 'Watery eye'\n",
      " 'Wattles' 'Weak Pulse' 'Weak kids' 'Weakness' 'Week legs' 'Weight loss'\n",
      " 'White mark on the muscle' 'Yellowish Discharge' 'congestion' 'diarrhea'\n",
      " 'difficulty diagnosis' 'difficulty swallowing' 'drooling' 'droopy wings'\n",
      " 'experiencing changes in weight' 'fluffed feathers'\n",
      " 'foul smelling stools' 'frequent yawning' 'gasping for air'\n",
      " 'gasping for breath' 'gurgling sound' 'heavy breathing'\n",
      " 'high body temperature' 'inability to fly' 'lameness in affected leg'\n",
      " 'loss of alertness' 'loss of appetite' 'lying down' 'noisy breathing'\n",
      " 'pain ' 'pulmonary congestion' 'rectal bleeding' 'self-isolation'\n",
      " 'stomatitis' 'swollen lymph nodes' 'tiredness' 'twisted neck'\n",
      " 'urine dribbling' 'watery eyes' 'weakness']\n",
      "Classes for symptoms5: [' dizziness and fainting' 'Abdonormal discomfort' 'Abdonormal pain'\n",
      " 'Abnormal behaviour' 'Abnormalities' 'Acting unnaturally tame' 'Anaemia'\n",
      " 'Anemia' 'Anorexia' 'Arthritis' 'Ataxia' 'Black stool'\n",
      " 'Bleeding from the nose' 'Bleeding in eye and skin' 'Blindness' 'Blister'\n",
      " 'Blood Clots' 'Blood Poisioning ' 'Bloody' 'Bloody Diarrhea'\n",
      " 'Bloody in feather' 'Blue Eye' 'Bumps(black,grey or red)'\n",
      " 'Carcass decomposes' 'Chest Pain' 'Colic' 'Congestion' 'Constipation'\n",
      " 'Convulsion' 'Death' 'Decrease appetite' 'Decrease in milk production'\n",
      " 'Dehydration' 'Depression' 'Diarrhea' 'Difficulty in Breathing'\n",
      " 'Diphtherictic' 'Distended chest' 'Distended stomach' 'Dizziness'\n",
      " 'Drop in milk production' 'Drop on egg production' 'Dry Hair coat'\n",
      " 'Dry air' 'Dullness' 'Dyspnea' 'Effort to breath' 'Emaciation'\n",
      " 'Enlarged lymph nodes' 'Enlarged lymph nodes or Swelling' 'Epistaxis'\n",
      " 'Eventually death' 'Excessive grooming' 'Extension of neck'\n",
      " 'Eye become dull' 'Eye closed' 'Eye movements' 'Eye redness'\n",
      " 'Facial paralysis' 'Facial swelling' 'Faeces are streake with blood'\n",
      " 'Fatigue' 'Fatique' 'Fever' 'Flaking of the Scutes' 'Flock Moratality'\n",
      " 'Fluif filled blisters' 'Folded Ears' 'Frequent eye Infections'\n",
      " 'Good appetite' 'Greenish diarrhea' 'Hair loss'\n",
      " 'Inability to absorb nutrients' 'Inability to jump'\n",
      " 'Increased in breathing' 'Infection' 'Itchiness' 'Jaundice' 'Joint Pain'\n",
      " 'Lameness' 'Lesion' 'Lesions on ear' 'Lesions on nose' 'Lethargy'\n",
      " 'Limping' 'Listlessness' 'Loss of appettite' 'Loss of eye'\n",
      " 'Loss of vitamin E' 'Lossened Teeth' 'Lound breathing' 'Lying down'\n",
      " 'Milk getting out more thick' 'Milk reduce' 'Misshapen Beak'\n",
      " 'Moist and painfull' 'Mortality varies' 'Muscle aches' 'Muscle pain'\n",
      " 'Muscle stiffness' 'Nasal Discharge' 'Nausea' 'Neck Vein Swelling'\n",
      " 'Nervous Issue' 'Neurologic abnormalities' 'Not eating' 'Nuerological'\n",
      " 'Obscure Lameness' 'Ocular discharge' 'Oxygen defiency' 'Pain'\n",
      " 'Pain on face' 'Pain on leg' 'Pains' 'Pale gums'\n",
      " 'Papules appear on teats anad udder' 'Periodic vommiting' 'Pharyngitis'\n",
      " 'Pink eye' 'Polydipsa' 'Poor Body condition' 'Raised growth or bump'\n",
      " 'Recumbency' 'Red and inflammation ear' 'Red lesion from bald patches'\n",
      " 'Redness on ear' 'Reduce Lamp marking' 'Respiratory infection'\n",
      " 'Rubbing eye' 'Salivating' 'Scratching' 'Seizures' 'Sensitive to touch'\n",
      " 'Septicemia' 'Severe weekness and depression' 'Shaking oh head' 'Shock'\n",
      " 'Shortness of breath' 'Shyness or aggression' 'Skin issue'\n",
      " 'Sleeping Excessively' 'Sloughing of the tail' 'Sneezing' 'Snoring'\n",
      " 'Staggering' 'Stamping And pedding of hind eye' 'Stiffness'\n",
      " 'Stomach  cramps' 'Stopped eat' 'Sudden death'\n",
      " 'Swelling of internal organs' 'Swelling of joints' 'Swollen and painfull'\n",
      " 'Tail shaking' 'Tear production' 'Tenderness' 'Terminal convulsion'\n",
      " 'Throat and Ear pain' 'Ulcerated ear' 'Ulcerated skin'\n",
      " 'Unable to exercise' 'Underdeveloped muscles' 'Undigested seeds'\n",
      " 'Vaginal Discharge' 'Vision Problem' 'Vomitting' 'Wasting'\n",
      " 'Watery faeces' 'Weakness' 'Week pulse' 'Weight Loss' 'Weight gain'\n",
      " 'Weight loss' 'Weightloss' 'Weigth bearing long bones' 'Wool production'\n",
      " 'anaemia' 'anorexia' 'coughing' 'depression' 'diarrhoea'\n",
      " 'difficulty moving and eating' 'drooping ears' 'droopy wings' 'dull ness'\n",
      " 'extending its neck' 'fever' 'gasping for breath' 'inability to rise'\n",
      " 'lack of vocalizations' 'lameness' 'loss of\\xa0wariness' 'recumbency'\n",
      " 'restless movement' 'slow growth' 'sudden death' 'swollen abdomen'\n",
      " 'trembling' 'twisted neck' 'urination problem' 'weakness'\n",
      " '\\xa0increased passing gas' '\\xa0pain and bloating']\n",
      "Classes for Y: ['No' 'Yes' nan]\n"
     ]
    }
   ],
   "source": [
    "from joblib import load\n",
    "\n",
    "# Load the label encoder classes\n",
    "label_encoder_X_classes = {}\n",
    "for col in ['AnimalName', 'symptoms1', 'symptoms2', 'symptoms3', 'symptoms4', 'symptoms5']:\n",
    "    label_encoder_X_classes[col] = load(f'label_encoder_{col}_classes.joblib')\n",
    "label_encoder_Y_classes = load('label_encoder_Y_classes.joblib')\n",
    "\n",
    "# Print the classes for each feature\n",
    "for col, encoder in label_encoder_X_classes.items():\n",
    "    print(f'Classes for {col}: {encoder.classes_}')\n",
    "\n",
    "print(f'Classes for Y: {label_encoder_Y_classes.classes_}')"
   ]
  },
  {
   "cell_type": "code",
   "execution_count": 28,
   "metadata": {},
   "outputs": [
    {
     "name": "stdout",
     "output_type": "stream",
     "text": [
      "\u001b[1m1/1\u001b[0m \u001b[32m━━━━━━━━━━━━━━━━━━━━\u001b[0m\u001b[37m\u001b[0m \u001b[1m0s\u001b[0m 102ms/step\n",
      "Predicted Disease: Yes\n"
     ]
    }
   ],
   "source": [
    "import numpy as np\n",
    "\n",
    "# Function to preprocess input data for testing\n",
    "def preprocess_input(input_data, label_encoders_X):\n",
    "    encoded_input = []\n",
    "    for col, value in input_data.items():\n",
    "        if col in label_encoder_X:\n",
    "            # Use the corresponding LabelEncoder to transform feature variables\n",
    "            encoded_input.append(label_encoder_X[col].transform([value])[0])\n",
    "        else:\n",
    "            # If the column is not categorical, use the value as is\n",
    "            encoded_input.append(value)\n",
    "    return np.array(encoded_input).reshape(1, -1)\n",
    "\n",
    "# Define input data for testing\n",
    "input_data = {\n",
    "    'AnimalName': 'Buffaloes',\n",
    "    'symptoms1': 'Indigestion',\n",
    "    'symptoms2': 'Infection',\n",
    "    'symptoms3': 'Drooling',\n",
    "    'symptoms4': 'Appetite',\n",
    "    'symptoms5': 'Muscle stiffness'\n",
    "}\n",
    "\n",
    "# Preprocess input data for testing\n",
    "preprocessed_input = preprocess_input(input_data, label_encoder_X)\n",
    "\n",
    "# Make predictions using the trained model\n",
    "predictions = model.predict(preprocessed_input)\n",
    "\n",
    "# Get the predicted class\n",
    "predicted_class_index = np.argmax(predictions)\n",
    "predicted_class = label_encoder_Y.classes_[predicted_class_index]\n",
    "\n",
    "print(\"IS it dangerous:\", predicted_class)\n"
   ]
  }
 ],
 "metadata": {
  "kernelspec": {
   "display_name": "animaldetect",
   "language": "python",
   "name": "python3"
  },
  "language_info": {
   "codemirror_mode": {
    "name": "ipython",
    "version": 3
   },
   "file_extension": ".py",
   "mimetype": "text/x-python",
   "name": "python",
   "nbconvert_exporter": "python",
   "pygments_lexer": "ipython3",
   "version": "3.11.4"
  }
 },
 "nbformat": 4,
 "nbformat_minor": 2
}
